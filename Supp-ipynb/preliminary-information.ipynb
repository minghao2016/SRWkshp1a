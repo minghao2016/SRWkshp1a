{
 "cells": [
  {
   "cell_type": "markdown",
   "metadata": {},
   "source": [
    "## 1. Preliminary Information\n",
    "\n",
    "Latest version of this workshop will be available from the following GitHub site,\n",
    "https://github.com/ravichas/SRWkshp1a. I have used [BINDER](https://mybinder.org/) server to convert workshop materials into dynamic Jupyter notebook(s). The BINDER instance can be accessed (look for launch binder logo) from the [GitHub](https://github.com/ravichas/SRWkshp1a) site. \n",
    "\n",
    "GitHub site contains information on how to install Python libraries (via conda) and run the Jupyter notebook on your system. To be clear, you do not need to install any software if you are using our BINDER instance.  \n",
    "\n",
    "Please note that this workshop is a continuation of NIH.AI ML Workshop-1 on generating molecular descriptors, [Workshop-1](https://github.com/ravichas/SRWkshp1). Some of the concepts used here are covered in Workshop-1. Please check out the GitHub repository.\n",
    "\n",
    "I will demonstrate how to build Machine-Learning classification models for predicting small-molecule (drug-like) function (ex., CNS, GI Agent etc.). This is part of the knowledge-transfer efforts of NCI-DOE Pilot projects, [JDACS4C](https://datascience.cancer.gov/collaborations/joint-design-advanced-computing). We will be covering the results of Pilot projects in separate workshop(s). For this workshop, I will use the procedures, tools (python rdkit libraries) and results from the [AMPL](https://arxiv.org/abs/1911.05211) and other Pilot projects to guide us through this effort. Towards this goal, we will follow the AMPL feature steps, data curation (Data; SMILES), featurization (fingerprints), model-training and tuning (Hyperparameter optimization using [CANDLE](https://datascience.cancer.gov/collaborations/joint-design-advanced-computing/candle) and the analysis.\n",
    "\n",
    "For this workshop, I will use SMILES string data for small molecules from the paper, **Learning Drug Function from Chemical Structure with Convolutional Neural Networks and Random Forests**, *Journal of Chemical Information and Modeling (2019)* You can read details of the work from here, https://www.ncbi.nlm.nih.gov/pubmed/31518132. "
   ]
  }
 ],
 "metadata": {
  "kernelspec": {
   "display_name": "Python 3",
   "language": "python",
   "name": "python3"
  },
  "language_info": {
   "codemirror_mode": {
    "name": "ipython",
    "version": 3
   },
   "file_extension": ".py",
   "mimetype": "text/x-python",
   "name": "python",
   "nbconvert_exporter": "python",
   "pygments_lexer": "ipython3",
   "version": "3.8.1"
  }
 },
 "nbformat": 4,
 "nbformat_minor": 4
}
