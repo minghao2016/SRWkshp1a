{
 "cells": [
  {
   "cell_type": "markdown",
   "metadata": {},
   "source": [
    "## 2. Drug Discovery Overview\n",
    "\n",
    "* Drug discovery is a difficult endeavor. The journey on average takes ~ 10 years with Billions of `$$$$`\n",
    "* Chemical exploration space is large (see below). \n",
    "\n",
    "Quote taken from https://www.ncbi.nlm.nih.gov/pubmed/?term=23019491 )\n",
    "\n",
    "*The playground for de novo drug design concerns all organic molecules that are of potential interest as drugs, usually the molecules following Lipinski’s “rule of five” (Ro5). The Ro5 states that a molecule displays favorable pharmacokinetic properties in terms of absorption and distribution if at least two of the following four criteria are met: (1) MW ≤ 500 Da (not too large), (2) logP ≤ 5 (not too lipophilic), (3) HBA ≤ 10, and (4) HBD ≤ 5 (not too hydrogen-bonding). Whereas the known chemical space including public databases and corporate collections probably contains on the order 100 million molecules, it has been estimated that the Lipinski virtual chemical space might contain as many as $\\bf10^{60}$ compounds when considering only basic structural rules,or a more modest $\\bf 10^{20}−10^{24}$ molecules if combination of known fragments are considered.*\n"
   ]
  }
 ],
 "metadata": {
  "kernelspec": {
   "display_name": "Python 3",
   "language": "python",
   "name": "python3"
  },
  "language_info": {
   "codemirror_mode": {
    "name": "ipython",
    "version": 3
   },
   "file_extension": ".py",
   "mimetype": "text/x-python",
   "name": "python",
   "nbconvert_exporter": "python",
   "pygments_lexer": "ipython3",
   "version": "3.8.1"
  }
 },
 "nbformat": 4,
 "nbformat_minor": 4
}
