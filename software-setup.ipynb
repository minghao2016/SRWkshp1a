{
 "cells": [
  {
   "cell_type": "markdown",
   "metadata": {},
   "source": [
    "# NIH.AI ML Workshop-1a"
   ]
  },
  {
   "cell_type": "markdown",
   "metadata": {},
   "source": [
    "## Machine Learning for Predicting Drug Function Using Molecular Structures\n",
    "### S.Ravichandran; *ravichandrans@mail.nih.gov*"
   ]
  },
  {
   "cell_type": "markdown",
   "metadata": {},
   "source": [
    "## Join us by going to the following GitHub site\n",
    "\n",
    "https://github.com/ravichas/SRWkshp1a"
   ]
  },
  {
   "cell_type": "markdown",
   "metadata": {},
   "source": [
    "## <font color='red'> Preliminary Software-setup Information</font>"
   ]
  },
  {
   "cell_type": "markdown",
   "metadata": {},
   "source": [
    "Please note that code was devloped/tested on Windows/Mac/Linux in a custom conda environment with the libraries (see next cell for information):\n",
    "\n",
    "* Windows: Running windows-10 (64-bit OS ): Intel core i7-4600M; CPU: 2.9G0Hz\n",
    "* Mac: Macbook Pro\n",
    "* Linux: NIH Biowulf HPC cluster "
   ]
  },
  {
   "cell_type": "markdown",
   "metadata": {},
   "source": [
    "### **Packages and Libraries used in this workshop**\n",
    "\n",
    "### List of packages:\n",
    "* **Conda**: Anaconda distribution package manager; https://www.anaconda.com/\n",
    "* **Jupyter Notebook**: https://jupyter.org/\n",
    "\n",
    "### List of Libraries\n",
    "\n",
    "* collections\n",
    "* IPython\n",
    "* itertools\n",
    "* matplotlib\n",
    "* numpy\n",
    "* pandas\n",
    "* os\n",
    "* random\n",
    "* rdkit\n",
    "* sklearn\n",
    "* time"
   ]
  },
  {
   "cell_type": "markdown",
   "metadata": {},
   "source": [
    "### Getting ready with rdkit/mordred/Other-libraries using Anaconda\n",
    "\n",
    "Based on our experience, on a high-speed internet connection, the setting up of environment with the above mentioned libraries will take anywhere from 30 to 45 minutes.\n",
    "\n",
    "Please note the attendees will work on a cloud instance for this workshop and wont be needing any local python/library installations. If the workshop attendees want to use the local software (anaconda/Jupyter/other python libraries mentioned above), then we recommend the attendees to complete/test the software/library installations ahead of time."
   ]
  }
 ],
 "metadata": {
  "kernelspec": {
   "display_name": "Python 3",
   "language": "python",
   "name": "python3"
  },
  "language_info": {
   "codemirror_mode": {
    "name": "ipython",
    "version": 3
   },
   "file_extension": ".py",
   "mimetype": "text/x-python",
   "name": "python",
   "nbconvert_exporter": "python",
   "pygments_lexer": "ipython3",
   "version": "3.8.1"
  }
 },
 "nbformat": 4,
 "nbformat_minor": 4
}
